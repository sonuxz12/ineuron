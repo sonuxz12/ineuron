{
  "nbformat": 4,
  "nbformat_minor": 0,
  "metadata": {
    "colab": {
      "provenance": [],
      "collapsed_sections": []
    },
    "kernelspec": {
      "name": "python3",
      "display_name": "Python 3"
    },
    "language_info": {
      "name": "python"
    }
  },
  "cells": [
    {
      "cell_type": "markdown",
      "source": [
        "# ASSIGNMENTS \n",
        "## Send it before 0000 hrs IST or 12 AM Wednesday\n",
        "\n",
        "## NOTE: Evaluation will be done before next class.\n",
        "\n",
        "## HOW TO SUBMIT: -\n",
        "Download this notebook, Solve it and upload in the google form given in the mail."
      ],
      "metadata": {
        "id": "dkGbTD94s6CD"
      }
    },
    {
      "cell_type": "markdown",
      "source": [
        "## control flow and conditional statements"
      ],
      "metadata": {
        "id": "n3FuI-mutNl6"
      }
    },
    {
      "cell_type": "markdown",
      "source": [
        "Q1. Find the largest number from the given list, use for loop.\n",
        "\n",
        "```\n",
        "numbers = [12, 75, 150, 180, 145, 525, 50]\n",
        "```"
      ],
      "metadata": {
        "id": "NCW2epdyuJ-a"
      }
    },
    {
      "cell_type": "code",
      "source": [
        "#Given a list of numbers\n",
        "numbers=[12,75,150,180,145,525,50]\n",
        "#initialize b to 1st member of list for one to one comparison\n",
        "b=numbers[0]\n",
        "#loop over each member of the list & alter b only if member value is greater than earlier assigned b\n",
        "for i in numbers:\n",
        "  if i>=b:\n",
        "    b=i\n",
        "# print the largest number in the given list\n",
        "print(b)"
      ],
      "metadata": {
        "id": "Bni_vnldsvF4",
        "outputId": "e192d35d-d961-4d03-ab4b-24d6f9920574",
        "colab": {
          "base_uri": "https://localhost:8080/"
        }
      },
      "execution_count": 2,
      "outputs": [
        {
          "output_type": "stream",
          "name": "stdout",
          "text": [
            "525\n"
          ]
        }
      ]
    },
    {
      "cell_type": "markdown",
      "source": [
        "Q2. Print all the even number between (1, 12)."
      ],
      "metadata": {
        "id": "Qsg0i1fTwEQj"
      }
    },
    {
      "cell_type": "code",
      "source": [
        "#loop over each & every integer between 1 & 12 & check its divisibility by 2\n",
        "for i in range(1,12):\n",
        "  if i%2==0:\n",
        "    print(i)"
      ],
      "metadata": {
        "id": "_83rdEjVvvDs",
        "outputId": "0a2e65dc-5441-44d8-8ab9-fb09cec39563",
        "colab": {
          "base_uri": "https://localhost:8080/"
        }
      },
      "execution_count": 3,
      "outputs": [
        {
          "output_type": "stream",
          "name": "stdout",
          "text": [
            "2\n",
            "4\n",
            "6\n",
            "8\n",
            "10\n"
          ]
        }
      ]
    },
    {
      "cell_type": "markdown",
      "source": [
        "Q3. Calculate the sum of all numbers from 1 to a given number\n",
        "    \n",
        "    Expected Output:\n",
        "\n",
        "    Enter number 10\n",
        "    \n",
        "    Sum is:  55\n"
      ],
      "metadata": {
        "id": "WG2QcDDhwi4a"
      }
    },
    {
      "cell_type": "code",
      "source": [
        "#enter a number greater than 1\n",
        "n=int(input(\"Enter an integer greater than 1 :- \"))\n",
        "# assign variable x to zero\n",
        "x=0\n",
        "# loop over each and every integer from 1 to n+1 & keep adding it to x\n",
        "for i in range(1,n+1):\n",
        "  x+=i\n",
        "print(\"sum is \",x)"
      ],
      "metadata": {
        "id": "kxTlYiqgwHSx",
        "outputId": "5eafdb2e-7538-495d-9d24-da77ddd7d3bd",
        "colab": {
          "base_uri": "https://localhost:8080/"
        }
      },
      "execution_count": 5,
      "outputs": [
        {
          "output_type": "stream",
          "name": "stdout",
          "text": [
            "Enter an integer greater than 1 :- 10\n",
            "sum is  55\n"
          ]
        }
      ]
    },
    {
      "cell_type": "markdown",
      "source": [
        "Q4. Write a program to display only those numbers from a list that satisfy the following conditions\n",
        "\n",
        "- The number must be divisible by five\n",
        "\n",
        "- If the number is greater than 150, then skip it and move to the next number\n",
        "\n",
        "- If the number is greater than 500, then stop the loop"
      ],
      "metadata": {
        "id": "mc7lLUm5f4Cq"
      }
    },
    {
      "cell_type": "code",
      "source": [
        "# Given:\n",
        "\n",
        "numbers = [12, 75, 150, 180, 145, 525, 50]"
      ],
      "metadata": {
        "id": "P3Ct2ocKf6Hy"
      },
      "execution_count": null,
      "outputs": []
    },
    {
      "cell_type": "code",
      "source": [
        "numbers=[12,75,150,180,145,525,50]\n",
        "# loop over each number and check its divisibility by 5\n",
        "for i in numbers:\n",
        "  if i%5==0:\n",
        "#if it is divisible 5 , check whether it is in the range of (150,500), if it is out of range in lower side print it ,if it is out of range in higher side break the loop, if in the range skip it.\n",
        "    if i > 150 and i <500:\n",
        "      continue\n",
        "    elif i >500 :\n",
        "      break\n",
        "    print(i)"
      ],
      "metadata": {
        "id": "32gVD9vkw9yl",
        "outputId": "0ca89de0-709b-4e27-f58e-4e3281b250fc",
        "colab": {
          "base_uri": "https://localhost:8080/"
        }
      },
      "execution_count": 9,
      "outputs": [
        {
          "output_type": "stream",
          "name": "stdout",
          "text": [
            "75\n",
            "150\n",
            "145\n"
          ]
        }
      ]
    },
    {
      "cell_type": "markdown",
      "source": [
        "Q5. Print the given list in reverse order.\n",
        "\n",
        "```\n",
        "list1 = [10, 20, 30, 40, 50]\n",
        "```"
      ],
      "metadata": {
        "id": "rrxWvy7nMnAs"
      }
    },
    {
      "cell_type": "code",
      "source": [
        "list1=[10,20,30,40,50]\n",
        "list1[::-1]"
      ],
      "metadata": {
        "id": "z-GDgPn3Nr0y",
        "outputId": "1200b386-b139-471c-936a-215668014e99",
        "colab": {
          "base_uri": "https://localhost:8080/"
        }
      },
      "execution_count": 6,
      "outputs": [
        {
          "output_type": "execute_result",
          "data": {
            "text/plain": [
              "[50, 40, 30, 20, 10]"
            ]
          },
          "metadata": {},
          "execution_count": 6
        }
      ]
    },
    {
      "cell_type": "code",
      "source": [
        "list2=[]\n",
        "for i in range(1,len(list1)+1):\n",
        "  list2.append(list1[-i])\n",
        "print(list2)\n"
      ],
      "metadata": {
        "id": "s_S1ldD7xTsB",
        "outputId": "020779c0-ff57-45cf-f8fd-1f59dcd7a35b",
        "colab": {
          "base_uri": "https://localhost:8080/"
        }
      },
      "execution_count": 7,
      "outputs": [
        {
          "output_type": "stream",
          "name": "stdout",
          "text": [
            "[50, 40, 30, 20, 10]\n"
          ]
        }
      ]
    },
    {
      "cell_type": "code",
      "source": [],
      "metadata": {
        "id": "FptGcFtDxzIY"
      },
      "execution_count": null,
      "outputs": []
    }
  ]
}