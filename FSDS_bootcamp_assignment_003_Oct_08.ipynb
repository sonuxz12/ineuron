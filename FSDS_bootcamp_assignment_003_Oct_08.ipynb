{
  "nbformat": 4,
  "nbformat_minor": 0,
  "metadata": {
    "colab": {
      "provenance": [],
      "collapsed_sections": []
    },
    "kernelspec": {
      "name": "python3",
      "display_name": "Python 3"
    },
    "language_info": {
      "name": "python"
    }
  },
  "cells": [
    {
      "cell_type": "markdown",
      "source": [
        "# ASSIGNMENTS - Compulsory\n",
        "## Send it before 0000 hrs IST or 12 AM Wednesday\n",
        "\n",
        "## NOTE: Evaluation will be done before next class.\n",
        "\n",
        "## HOW TO SUBMIT: -\n",
        "Download this notebook, Solve it and upload in the google form given in the mail."
      ],
      "metadata": {
        "id": "cyOfbWCdOjEr"
      }
    },
    {
      "cell_type": "markdown",
      "source": [
        "## Python String Manipulation\n",
        "\n",
        "1. Count the number of times `iNeuron` appears in the string.\n",
        "```python\n",
        "text = \"Welcome to iNeuron, You are a part of FSDS Bootcamp 2 in iNeuron. I hope you are enjoying the course by iNeuron\"\n",
        "```\n",
        "2. Check if position `5` to `11` ends with the phrase `iNeuron.` in the string \n",
        "```python\n",
        "txt = \"Hello, welcome to FSDS 2.0 at iNeuron.\"\n",
        "```\n",
        "3. Write a program that takes your full name as input and displays the abbreviations of the first and middle names except the last name which is displayed as it is. For example, if your name is Sunny Bhaveen Chandra, then the output should be S.B.Chandra.\n",
        "\n",
        "4. Join all items in a list into a string, using a hash(`#`) character as separator:\n",
        "```python\n",
        "LIST = [\"My\", \"name\", \"is\", \"Rishav\", \"Dash\"]\n",
        "```\n",
        "5. Write example for the following string manipulation function,\n",
        "\n",
        "  ```\n",
        "  - isdecimal()\n",
        "  - islower()\n",
        "  - isupper()\n",
        "  - isalpha()\n",
        "  - isnumeric()\n",
        "\n",
        "  ```\n",
        "6. Indian PAN card format follows the following formats - \n",
        "    - `AYEPC7894X`\n",
        "    - `ABCDE9999Y`\n",
        "  Take user input for PAN_CARD and validate as per the above example.\n"
      ],
      "metadata": {
        "id": "GT4IytkJMNa-"
      }
    },
    {
      "cell_type": "code",
      "source": [
        "#QUE1\n",
        "text = \"Welcome to iNeuron, You are a part of FSDS Bootcamp 2 in iNeuron. I hope you are enjoying the course by iNeuron\"\n",
        "text.count(\"iNeuron\")"
      ],
      "metadata": {
        "id": "2AvOzc8l1zGr",
        "outputId": "d2215019-08c9-4e9b-e88a-0820b858e012",
        "colab": {
          "base_uri": "https://localhost:8080/"
        }
      },
      "execution_count": 2,
      "outputs": [
        {
          "output_type": "execute_result",
          "data": {
            "text/plain": [
              "3"
            ]
          },
          "metadata": {},
          "execution_count": 2
        }
      ]
    },
    {
      "cell_type": "code",
      "source": [
        "#QUE2\n",
        "txt = \"Hello, welcome to FSDS 2.0 at iNeuron.\"\n",
        "txt.endswith(\"iNeuron\", 5, 11)"
      ],
      "metadata": {
        "id": "KwVni9gipNi-",
        "outputId": "ee0606e6-0736-476e-e92e-842a4a48ed65",
        "colab": {
          "base_uri": "https://localhost:8080/"
        }
      },
      "execution_count": 3,
      "outputs": [
        {
          "output_type": "execute_result",
          "data": {
            "text/plain": [
              "False"
            ]
          },
          "metadata": {},
          "execution_count": 3
        }
      ]
    },
    {
      "cell_type": "code",
      "source": [
        "#que3\n",
        "name=input(\"Enter your full name with space b/w each part of name:- \")\n",
        "x=name.split(\" \")\n",
        "print(x[0][0].upper()+\".\"+x[1][0].upper()+\".\"+x[2].title())"
      ],
      "metadata": {
        "id": "4G2BN9rv6u53",
        "outputId": "14daacce-62cf-4cd2-e826-599afae83cb1",
        "colab": {
          "base_uri": "https://localhost:8080/"
        }
      },
      "execution_count": 15,
      "outputs": [
        {
          "output_type": "stream",
          "name": "stdout",
          "text": [
            "Enter your full name with space b/w each part of name:- sonu kumar singh\n",
            "S.K.Singh\n"
          ]
        }
      ]
    },
    {
      "cell_type": "code",
      "source": [
        "#que4\n",
        "LIST = [\"My\", \"name\", \"is\", \"Rishav\", \"Dash\"]\n",
        "x=str()\n",
        "for i in LIST:\n",
        "  x=x+\"#\"+i\n",
        "print(x)"
      ],
      "metadata": {
        "id": "7Q13too07sOL",
        "outputId": "01f80039-c233-40d1-cadb-75da75a691e4",
        "colab": {
          "base_uri": "https://localhost:8080/"
        }
      },
      "execution_count": 17,
      "outputs": [
        {
          "output_type": "stream",
          "name": "stdout",
          "text": [
            "#My#name#is#Rishav#Dash\n"
          ]
        }
      ]
    },
    {
      "cell_type": "code",
      "source": [
        "#que5\n",
        "a=\"0.5\"\n",
        "b=\"5\"\n",
        "print(a.isdecimal())\n",
        "print(b.isdecimal())"
      ],
      "metadata": {
        "id": "wcQCaxIa9R_i",
        "outputId": "d40650b0-9d31-4821-e1cb-a69fe5380400",
        "colab": {
          "base_uri": "https://localhost:8080/"
        }
      },
      "execution_count": 23,
      "outputs": [
        {
          "output_type": "stream",
          "name": "stdout",
          "text": [
            "False\n",
            "True\n"
          ]
        }
      ]
    },
    {
      "cell_type": "code",
      "source": [
        "\"sonu\".islower()"
      ],
      "metadata": {
        "id": "F-nlKwdo9mqs",
        "outputId": "043c2235-3439-4b8d-ec10-3748882e3929",
        "colab": {
          "base_uri": "https://localhost:8080/"
        }
      },
      "execution_count": 25,
      "outputs": [
        {
          "output_type": "execute_result",
          "data": {
            "text/plain": [
              "True"
            ]
          },
          "metadata": {},
          "execution_count": 25
        }
      ]
    },
    {
      "cell_type": "code",
      "source": [
        "\"SONU\".isupper()"
      ],
      "metadata": {
        "id": "ppUQ2BW5-aKO",
        "outputId": "6596ceff-4505-447f-d144-456b0e19c49f",
        "colab": {
          "base_uri": "https://localhost:8080/"
        }
      },
      "execution_count": 26,
      "outputs": [
        {
          "output_type": "execute_result",
          "data": {
            "text/plain": [
              "True"
            ]
          },
          "metadata": {},
          "execution_count": 26
        }
      ]
    },
    {
      "cell_type": "code",
      "source": [
        "\"sonu\".isalpha()"
      ],
      "metadata": {
        "id": "a0ltNKuM-hfW",
        "outputId": "ec4958f2-1bb4-41d4-d635-89020c461f96",
        "colab": {
          "base_uri": "https://localhost:8080/"
        }
      },
      "execution_count": 30,
      "outputs": [
        {
          "output_type": "execute_result",
          "data": {
            "text/plain": [
              "True"
            ]
          },
          "metadata": {},
          "execution_count": 30
        }
      ]
    },
    {
      "cell_type": "code",
      "source": [
        "\"450\".isnumeric()"
      ],
      "metadata": {
        "id": "t4vYgJ3p-lZW",
        "outputId": "1070e958-af9d-4f93-f6f3-e00d81951cab",
        "colab": {
          "base_uri": "https://localhost:8080/"
        }
      },
      "execution_count": 31,
      "outputs": [
        {
          "output_type": "execute_result",
          "data": {
            "text/plain": [
              "True"
            ]
          },
          "metadata": {},
          "execution_count": 31
        }
      ]
    },
    {
      "cell_type": "code",
      "source": [
        "#que6:\n",
        "a=input(\"enter your pan number:- \")\n",
        "if a.isspace()==False and len(a)==10 and a[0:5].isalpha()==True and a[5:9].isdigit()==True and a[9].isalpha()==True:\n",
        "  print(a, \"is correct PAN\")\n",
        "else:\n",
        "  print(a,\"is incorrect pan\")\n"
      ],
      "metadata": {
        "id": "4sTdsWv1-voP",
        "outputId": "3b6bf589-c812-4c06-b000-ecc663b6340a",
        "colab": {
          "base_uri": "https://localhost:8080/"
        }
      },
      "execution_count": 48,
      "outputs": [
        {
          "output_type": "stream",
          "name": "stdout",
          "text": [
            "enter your pan number:- asert3456f\n",
            "asert3456f is correct PAN\n"
          ]
        }
      ]
    }
  ]
}