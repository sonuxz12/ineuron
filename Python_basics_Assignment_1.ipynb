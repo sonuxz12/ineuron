{
 "cells": [
  {
   "cell_type": "markdown",
   "id": "d7761674",
   "metadata": {},
   "source": [
    "1. In the below elements which of them are values or an expression? eg:- values can be\n",
    "integer or string and expressions will be mathematical operators.\n",
    "*\n",
    "hello\n",
    "-87.8\n",
    "-\n",
    "/\n",
    "+\n",
    "6\n",
    "Ans:-values are:- \"hello\",-87.8,6\n",
    "     Expressions are :- *,-,/,+"
   ]
  },
  {
   "cell_type": "markdown",
   "id": "aea1f47c",
   "metadata": {},
   "source": [
    "2. What is the difference between string and variable?\n",
    "Ans:- String is a primitive datatype in python , which is essentially a collection of albhabets,numbers or other characters, whereas variable is the name of the placeholder in temporary storage  where we store different data types for its further use.eg.\"ramu\" is a string data type & it can be stored inside the RAM for its further usage using a placeholder such as name.\n",
    "name=\"ram"
   ]
  },
  {
   "attachments": {},
   "cell_type": "markdown",
   "id": "f4f99920",
   "metadata": {},
   "source": [
    "3. Describe three different data types.\n",
    "Ans:- Numeric--it helps in using numbers for storing data & performing different mathematical operations.eg.float,int\n",
    "String-- It helps in storing & utilizing colection of alphabets,numbers & characters.\n",
    "Boolean-- It helps in answering True, False questions. we can use this data type to form useful logics for performing different tasks."
   ]
  },
  {
   "cell_type": "markdown",
   "id": "ac2006f4",
   "metadata": {},
   "source": [
    "4. What is an expression made up of? What do all expressions do?\n",
    "Ans:- Expression is made up of identifiers, literals &operators/operands  that is used to represent a value .\n",
    "Expressions use operators to perform some operations on the initial value to produce another value."
   ]
  },
  {
   "cell_type": "markdown",
   "id": "0ed51c00",
   "metadata": {},
   "source": [
    "5. This assignment statements, like spam = 10. What is the difference between an\n",
    "expression and a statement?\n",
    "Ans:- Anything that can be printed or assigned to a variable is called expression, if you can\"t its a statement.\n"
   ]
  },
  {
   "cell_type": "markdown",
   "id": "4cfdf89a",
   "metadata": {},
   "source": [
    "6. After running the following code, what does the variable bacon contain?\n",
    "bacon = 22\n",
    "bacon + 1\n",
    "Ans:-22"
   ]
  },
  {
   "cell_type": "markdown",
   "id": "b87e92cb",
   "metadata": {},
   "source": [
    "7. What should the values of the following two terms be?"
   ]
  },
  {
   "cell_type": "code",
   "execution_count": 3,
   "id": "fa56b3e0",
   "metadata": {},
   "outputs": [
    {
     "data": {
      "text/plain": [
       "'spamspamspam'"
      ]
     },
     "execution_count": 3,
     "metadata": {},
     "output_type": "execute_result"
    }
   ],
   "source": [
    "\"spam\"+\"spamspam\""
   ]
  },
  {
   "cell_type": "code",
   "execution_count": 4,
   "id": "07b9ea12",
   "metadata": {},
   "outputs": [
    {
     "data": {
      "text/plain": [
       "'spamspamspam'"
      ]
     },
     "execution_count": 4,
     "metadata": {},
     "output_type": "execute_result"
    }
   ],
   "source": [
    "\"spam\"*3"
   ]
  },
  {
   "cell_type": "markdown",
   "id": "c4233ac7",
   "metadata": {},
   "source": [
    "8. Why is eggs a valid variable name while 100 is invalid?\n",
    "Ans- As per convention , Variable names can't start with a number."
   ]
  },
  {
   "cell_type": "code",
   "execution_count": 5,
   "id": "b524b25b",
   "metadata": {},
   "outputs": [
    {
     "ename": "SyntaxError",
     "evalue": "cannot assign to literal (Temp/ipykernel_18272/4164751416.py, line 2)",
     "output_type": "error",
     "traceback": [
      "\u001b[1;36m  File \u001b[1;32m\"C:\\Users\\sonux\\AppData\\Local\\Temp/ipykernel_18272/4164751416.py\"\u001b[1;36m, line \u001b[1;32m2\u001b[0m\n\u001b[1;33m    100=\"singh\"\u001b[0m\n\u001b[1;37m    ^\u001b[0m\n\u001b[1;31mSyntaxError\u001b[0m\u001b[1;31m:\u001b[0m cannot assign to literal\n"
     ]
    }
   ],
   "source": [
    "eggs=10\n",
    "100=\"singh\""
   ]
  },
  {
   "cell_type": "markdown",
   "id": "6bbb5070",
   "metadata": {},
   "source": [
    "9. What three functions can be used to get the integer, floating-point number, or string\n",
    "version of a value?\n",
    "Ans:-suppose 95.8 is a value,then, int, float & str can be used."
   ]
  },
  {
   "cell_type": "code",
   "execution_count": 6,
   "id": "cf15b776",
   "metadata": {},
   "outputs": [
    {
     "name": "stdout",
     "output_type": "stream",
     "text": [
      "95.8\n",
      "95\n",
      "95.8\n"
     ]
    }
   ],
   "source": [
    "print(str(95.8))\n",
    "print(int(95.8))\n",
    "print(float(95.8))"
   ]
  },
  {
   "cell_type": "markdown",
   "id": "9a7c8501",
   "metadata": {},
   "source": [
    "10. Why does this expression cause an error? How can you fix it?\n",
    "\"I have eaten\" + 99 + \"burritos\"\n",
    "Ans:-here 99 is a integer & rest are strings, we can't concatenate different data types.\n",
    "    i will fix it by converting 99 into string."
   ]
  },
  {
   "cell_type": "code",
   "execution_count": 7,
   "id": "f9f0caeb",
   "metadata": {},
   "outputs": [
    {
     "ename": "TypeError",
     "evalue": "can only concatenate str (not \"int\") to str",
     "output_type": "error",
     "traceback": [
      "\u001b[1;31m---------------------------------------------------------------------------\u001b[0m",
      "\u001b[1;31mTypeError\u001b[0m                                 Traceback (most recent call last)",
      "\u001b[1;32m~\\AppData\\Local\\Temp/ipykernel_18272/2126087958.py\u001b[0m in \u001b[0;36m<module>\u001b[1;34m\u001b[0m\n\u001b[1;32m----> 1\u001b[1;33m \u001b[1;34m\"I have eaten\"\u001b[0m \u001b[1;33m+\u001b[0m \u001b[1;36m99\u001b[0m \u001b[1;33m+\u001b[0m \u001b[1;34m\"burritos\"\u001b[0m\u001b[1;33m\u001b[0m\u001b[1;33m\u001b[0m\u001b[0m\n\u001b[0m",
      "\u001b[1;31mTypeError\u001b[0m: can only concatenate str (not \"int\") to str"
     ]
    }
   ],
   "source": [
    "\"I have eaten\" + 99 + \"burritos\""
   ]
  },
  {
   "cell_type": "code",
   "execution_count": 9,
   "id": "4866ca8f",
   "metadata": {},
   "outputs": [
    {
     "data": {
      "text/plain": [
       "'I have eaten 99 burritos'"
      ]
     },
     "execution_count": 9,
     "metadata": {},
     "output_type": "execute_result"
    }
   ],
   "source": [
    "\"I have eaten\" + \" 99 \" + \"burritos\""
   ]
  },
  {
   "cell_type": "code",
   "execution_count": 13,
   "id": "bbf2446b",
   "metadata": {},
   "outputs": [
    {
     "data": {
      "text/plain": [
       "'I have eaten99burritos'"
      ]
     },
     "execution_count": 13,
     "metadata": {},
     "output_type": "execute_result"
    }
   ],
   "source": [
    "\"I have eaten\" + str(99) + \"burritos\""
   ]
  },
  {
   "cell_type": "code",
   "execution_count": null,
   "id": "b0a1593c",
   "metadata": {},
   "outputs": [],
   "source": []
  }
 ],
 "metadata": {
  "kernelspec": {
   "display_name": "Python 3 (ipykernel)",
   "language": "python",
   "name": "python3"
  },
  "language_info": {
   "codemirror_mode": {
    "name": "ipython",
    "version": 3
   },
   "file_extension": ".py",
   "mimetype": "text/x-python",
   "name": "python",
   "nbconvert_exporter": "python",
   "pygments_lexer": "ipython3",
   "version": "3.9.7"
  }
 },
 "nbformat": 4,
 "nbformat_minor": 5
}
